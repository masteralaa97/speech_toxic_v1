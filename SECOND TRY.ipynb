{
 "cells": [
  {
   "cell_type": "code",
   "execution_count": 3,
   "metadata": {},
   "outputs": [],
   "source": [
    "import pandas as pd\r\n",
    "import numpy as np\r\n",
    "import os\r\n",
    "import matplotlib.pyplot as plt\r\n",
    "import seaborn as sns\r\n",
    "from sklearn.model_selection import train_test_split\r\n",
    "from sklearn.preprocessing import LabelEncoder\r\n",
    "#import keras\r\n",
    "from tensorflow.keras.models import Model\r\n",
    "from tensorflow.keras.layers import LSTM, Activation, Dense, Dropout, Input, Embedding\r\n",
    "from tensorflow.keras.optimizers import Adam\r\n",
    "from tensorflow.keras.preprocessing.text import Tokenizer\r\n",
    "from tensorflow.keras.preprocessing import sequence\r\n",
    "from tensorflow.keras.utils import to_categorical\r\n",
    "from tensorflow.keras.callbacks import EarlyStopping\r\n",
    "from sklearn.metrics import classification_report\r\n",
    "%matplotlib inline"
   ]
  },
  {
   "cell_type": "code",
   "execution_count": 4,
   "metadata": {},
   "outputs": [
    {
     "name": "stdout",
     "output_type": "stream",
     "text": [
      "<class 'pandas.core.frame.DataFrame'>\n",
      "RangeIndex: 24783 entries, 0 to 24782\n",
      "Data columns (total 2 columns):\n",
      " #   Column  Non-Null Count  Dtype \n",
      "---  ------  --------------  ----- \n",
      " 0   class   24783 non-null  int64 \n",
      " 1   tweet   24783 non-null  object\n",
      "dtypes: int64(1), object(1)\n",
      "memory usage: 387.4+ KB\n"
     ]
    }
   ],
   "source": [
    "df = pd.read_csv(\"data\\labeled_data.csv\")\n",
    "df.drop(['Unnamed: 0', 'count', 'hate_speech', 'offensive_language', 'neither'],axis=1,inplace=True)\n",
    "df.info()"
   ]
  },
  {
   "cell_type": "markdown",
   "metadata": {},
   "source": [
    "##### label \n",
    "0 - hate speech\n",
    "1 - offensive  language\n",
    "2 - neither"
   ]
  },
  {
   "cell_type": "code",
   "execution_count": 5,
   "metadata": {},
   "outputs": [
    {
     "data": {
      "text/plain": "<matplotlib.axes._subplots.AxesSubplot at 0x1d0535b1a60>"
     },
     "execution_count": 5,
     "metadata": {},
     "output_type": "execute_result"
    },
    {
     "data": {
      "image/png": "[encoded data removed]",
      "text/plain": "<Figure size 432x288 with 1 Axes>"
     },
     "metadata": {
      "needs_background": "light"
     },
     "output_type": "display_data"
    }
   ],
   "source": [
    "df['class'].hist()"
   ]
  },
  {
   "cell_type": "markdown",
   "metadata": {},
   "source": [
    "##### i will try to balance my data"
   ]
  },
  {
   "cell_type": "code",
   "execution_count": 6,
   "metadata": {},
   "outputs": [
    {
     "data": {
      "text/html": "<div>\n<style scoped>\n    .dataframe tbody tr th:only-of-type {\n        vertical-align: middle;\n    }\n\n    .dataframe tbody tr th {\n        vertical-align: top;\n    }\n\n    .dataframe thead th {\n        text-align: right;\n    }\n</style>\n<table border=\"1\" class=\"dataframe\">\n  <thead>\n    <tr style=\"text-align: right;\">\n      <th></th>\n      <th>label</th>\n      <th>tweet</th>\n    </tr>\n  </thead>\n  <tbody>\n    <tr>\n      <th>0</th>\n      <td>2</td>\n      <td>!!! RT @mayasolovely: As a woman you shouldn't...</td>\n    </tr>\n    <tr>\n      <th>1</th>\n      <td>1</td>\n      <td>!!!!! RT @mleew17: boy dats cold...tyga dwn ba...</td>\n    </tr>\n    <tr>\n      <th>2</th>\n      <td>1</td>\n      <td>!!!!!!! RT @UrKindOfBrand Dawg!!!! RT @80sbaby...</td>\n    </tr>\n    <tr>\n      <th>3</th>\n      <td>1</td>\n      <td>!!!!!!!!! RT @C_G_Anderson: @viva_based she lo...</td>\n    </tr>\n    <tr>\n      <th>4</th>\n      <td>1</td>\n      <td>!!!!!!!!!!!!! RT @ShenikaRoberts: The shit you...</td>\n    </tr>\n  </tbody>\n</table>\n</div>",
      "text/plain": "   label                                              tweet\n0      2  !!! RT @mayasolovely: As a woman you shouldn't...\n1      1  !!!!! RT @mleew17: boy dats cold...tyga dwn ba...\n2      1  !!!!!!! RT @UrKindOfBrand Dawg!!!! RT @80sbaby...\n3      1  !!!!!!!!! RT @C_G_Anderson: @viva_based she lo...\n4      1  !!!!!!!!!!!!! RT @ShenikaRoberts: The shit you..."
     },
     "execution_count": 6,
     "metadata": {},
     "output_type": "execute_result"
    }
   ],
   "source": [
    "df = df.rename(index=str, columns={\"class\": \"label\", \"tweet\": \"tweet\"})\n",
    "df.head()"
   ]
  },
  {
   "cell_type": "code",
   "execution_count": null,
   "metadata": {},
   "outputs": [],
   "source": []
  },
  {
   "cell_type": "code",
   "execution_count": 7,
   "metadata": {},
   "outputs": [
    {
     "name": "stdout",
     "output_type": "stream",
     "text": [
      "[2 1 1 ... 1 1 2]\n",
      "[[0. 0. 1.]\n",
      " [0. 1. 0.]\n",
      " [0. 1. 0.]\n",
      " ...\n",
      " [0. 1. 0.]\n",
      " [0. 1. 0.]\n",
      " [0. 0. 1.]]\n"
     ]
    }
   ],
   "source": [
    "X = df.tweet\n",
    "Y = df.label\n",
    "le = LabelEncoder()\n",
    "Y = le.fit_transform(Y)\n",
    "print(Y)\n",
    "Y = to_categorical(Y)\n",
    "#Y = Y.reshape(-1,1)\n",
    "print(Y)"
   ]
  },
  {
   "cell_type": "markdown",
   "metadata": {},
   "source": [
    "##### spliting data Train / Test  85:15"
   ]
  },
  {
   "cell_type": "code",
   "execution_count": 8,
   "metadata": {},
   "outputs": [],
   "source": [
    "X_train,X_test,Y_train,Y_test = train_test_split(X,Y,test_size=0.15)\n"
   ]
  },
  {
   "cell_type": "code",
   "execution_count": 10,
   "metadata": {},
   "outputs": [],
   "source": [
    "max_words = 1000\n",
    "max_len = 260\n",
    "tok = Tokenizer(num_words=max_words)\n",
    "tok.fit_on_texts(X_train)\n",
    "sequences = tok.texts_to_sequences(X_train)\n",
    "sequences_matrix = sequence.pad_sequences(sequences,maxlen=max_len)"
   ]
  },
  {
   "cell_type": "markdown",
   "metadata": {},
   "source": [
    "### Defining Model"
   ]
  },
  {
   "cell_type": "code",
   "execution_count": 9,
   "metadata": {},
   "outputs": [],
   "source": [
    "def RNN(inputs):\n",
    "    inputs = Input(name='inputs',shape=[max_len])\n",
    "    layer = Embedding(max_words,50,input_length=max_len)(inputs)\n",
    "    layer = LSTM(64)(layer)\n",
    "    layer = Dense(256,name='FC1')(layer)\n",
    "    layer = Activation('relu')(layer)\n",
    "    layer = Dropout(0.5)(layer)\n",
    "    layer = Dense(3,name='out_layer')(layer)\n",
    "    layer = Activation('softmax')(layer)\n",
    "    model = Model(inputs=inputs,outputs=layer)\n",
    "    return model"
   ]
  },
  {
   "cell_type": "code",
   "execution_count": 10,
   "metadata": {},
   "outputs": [
    {
     "name": "stdout",
     "output_type": "stream",
     "text": [
      "Model: \"model\"\n",
      "_________________________________________________________________\n",
      "Layer (type)                 Output Shape              Param #   \n",
      "=================================================================\n",
      "inputs (InputLayer)          [(None, 260)]             0         \n",
      "_________________________________________________________________\n",
      "embedding (Embedding)        (None, 260, 50)           50000     \n",
      "_________________________________________________________________\n",
      "lstm (LSTM)                  (None, 64)                29440     \n",
      "_________________________________________________________________\n",
      "FC1 (Dense)                  (None, 256)               16640     \n",
      "_________________________________________________________________\n",
      "activation (Activation)      (None, 256)               0         \n",
      "_________________________________________________________________\n",
      "dropout (Dropout)            (None, 256)               0         \n",
      "_________________________________________________________________\n",
      "out_layer (Dense)            (None, 3)                 771       \n",
      "_________________________________________________________________\n",
      "activation_1 (Activation)    (None, 3)                 0         \n",
      "=================================================================\n",
      "Total params: 96,851\n",
      "Trainable params: 96,851\n",
      "Non-trainable params: 0\n",
      "_________________________________________________________________\n"
     ]
    },
    {
     "name": "stderr",
     "output_type": "stream",
     "text": [
      "C:\\Users\\3alaa\\AppData\\Roaming\\Python\\Python38\\site-packages\\tensorflow\\python\\keras\\optimizer_v2\\optimizer_v2.py:374: UserWarning: The `lr` argument is deprecated, use `learning_rate` instead.\n",
      "  warnings.warn(\n"
     ]
    }
   ],
   "source": [
    "model = RNN(sequences_matrix)\n",
    "model.summary()\n",
    "model.compile(loss='categorical_crossentropy',optimizer=Adam(lr=0.01),metrics=['accuracy'])"
   ]
  },
  {
   "cell_type": "code",
   "execution_count": 11,
   "metadata": {},
   "outputs": [],
   "source": [
    "class_weight = {0: 50.,\n",
    "                1: 1.,\n",
    "                2: 20.}"
   ]
  },
  {
   "cell_type": "code",
   "execution_count": 12,
   "metadata": {
    "scrolled": true
   },
   "outputs": [
    {
     "name": "stdout",
     "output_type": "stream",
     "text": [
      "WARNING:tensorflow:From C:\\Users\\3alaa\\AppData\\Roaming\\Python\\Python38\\site-packages\\tensorflow\\python\\ops\\array_ops.py:5043: calling gather (from tensorflow.python.ops.array_ops) with validate_indices is deprecated and will be removed in a future version.\n",
      "Instructions for updating:\n",
      "The `validate_indices` argument has no effect. Indices are always validated on CPU and never validated on GPU.\n",
      "Epoch 1/30\n",
      "165/165 [==============================] - 50s 291ms/step - loss: 5.6172 - accuracy: 0.2862\n",
      "Epoch 2/30\n",
      "165/165 [==============================] - 46s 280ms/step - loss: 2.9500 - accuracy: 0.5616\n",
      "Epoch 3/30\n",
      "165/165 [==============================] - 46s 281ms/step - loss: 2.3177 - accuracy: 0.6727\n",
      "Epoch 4/30\n",
      "165/165 [==============================] - 46s 280ms/step - loss: 2.1137 - accuracy: 0.6749\n",
      "Epoch 5/30\n",
      "165/165 [==============================] - 46s 279ms/step - loss: 1.8547 - accuracy: 0.7035\n",
      "Epoch 6/30\n",
      "165/165 [==============================] - 47s 282ms/step - loss: 1.7237 - accuracy: 0.7101\n",
      "Epoch 7/30\n",
      "165/165 [==============================] - 46s 282ms/step - loss: 1.4570 - accuracy: 0.7291\n",
      "Epoch 8/30\n",
      "165/165 [==============================] - 47s 283ms/step - loss: 1.3372 - accuracy: 0.7502\n",
      "Epoch 9/30\n",
      "165/165 [==============================] - 46s 281ms/step - loss: 1.2975 - accuracy: 0.7683\n",
      "Epoch 10/30\n",
      "165/165 [==============================] - 46s 281ms/step - loss: 1.3591 - accuracy: 0.7653\n",
      "Epoch 11/30\n",
      "165/165 [==============================] - 46s 279ms/step - loss: 1.0705 - accuracy: 0.7910\n",
      "Epoch 12/30\n",
      "165/165 [==============================] - 46s 282ms/step - loss: 1.0225 - accuracy: 0.7983\n",
      "Epoch 13/30\n",
      "165/165 [==============================] - 46s 281ms/step - loss: 0.9227 - accuracy: 0.8184\n",
      "Epoch 14/30\n",
      "165/165 [==============================] - 47s 283ms/step - loss: 0.8597 - accuracy: 0.8313\n",
      "Epoch 15/30\n",
      "165/165 [==============================] - 51s 312ms/step - loss: 0.8509 - accuracy: 0.8402\n",
      "Epoch 16/30\n",
      "165/165 [==============================] - 54s 328ms/step - loss: 0.8283 - accuracy: 0.8349\n",
      "Epoch 17/30\n",
      "165/165 [==============================] - 57s 345ms/step - loss: 0.8639 - accuracy: 0.8143\n",
      "Epoch 18/30\n",
      "165/165 [==============================] - 58s 352ms/step - loss: 0.7628 - accuracy: 0.8510\n",
      "Epoch 19/30\n",
      "165/165 [==============================] - 55s 335ms/step - loss: 0.9572 - accuracy: 0.8316\n",
      "Epoch 20/30\n",
      "165/165 [==============================] - 62s 378ms/step - loss: 0.8726 - accuracy: 0.8410\n",
      "Epoch 21/30\n",
      "165/165 [==============================] - 58s 349ms/step - loss: 0.7818 - accuracy: 0.8469\n",
      "Epoch 22/30\n",
      "165/165 [==============================] - 56s 339ms/step - loss: 0.7494 - accuracy: 0.8485\n",
      "Epoch 23/30\n",
      "165/165 [==============================] - 61s 370ms/step - loss: 0.6721 - accuracy: 0.8641\n",
      "Epoch 24/30\n",
      "165/165 [==============================] - 52s 315ms/step - loss: 0.6716 - accuracy: 0.8581\n",
      "Epoch 25/30\n",
      "165/165 [==============================] - 50s 301ms/step - loss: 0.9587 - accuracy: 0.8295\n",
      "Epoch 26/30\n",
      "165/165 [==============================] - 47s 288ms/step - loss: 0.8789 - accuracy: 0.8402\n",
      "Epoch 27/30\n",
      "165/165 [==============================] - 55s 331ms/step - loss: 0.8158 - accuracy: 0.8562\n",
      "Epoch 28/30\n",
      "165/165 [==============================] - 53s 323ms/step - loss: 0.8308 - accuracy: 0.8350\n",
      "Epoch 29/30\n",
      "165/165 [==============================] - 53s 321ms/step - loss: 0.8743 - accuracy: 0.8380\n",
      "Epoch 30/30\n",
      "165/165 [==============================] - 52s 317ms/step - loss: 0.8477 - accuracy: 0.8423\n"
     ]
    }
   ],
   "source": [
    "b=model.fit(sequences_matrix,Y_train,batch_size=128,epochs=30, class_weight=class_weight)"
   ]
  },
  {
   "cell_type": "markdown",
   "metadata": {},
   "source": [
    "#### APPLYING MODEL IN TESTING"
   ]
  },
  {
   "cell_type": "code",
   "execution_count": 14,
   "metadata": {},
   "outputs": [],
   "source": [
    "#tok = Tokenizer(num_words=max_words)\n",
    "#tok.fit_on_texts(X_test)\n",
    "test_sequences = tok.texts_to_sequences(X_test)\n",
    "test_sequences_matrix = sequence.pad_sequences(test_sequences,maxlen=max_len)"
   ]
  },
  {
   "cell_type": "code",
   "execution_count": 15,
   "metadata": {},
   "outputs": [
    {
     "name": "stdout",
     "output_type": "stream",
     "text": [
      "117/117 [==============================] - 6s 42ms/step - loss: 0.9433 - accuracy: 0.7735\n"
     ]
    }
   ],
   "source": [
    "accr = model.evaluate(test_sequences_matrix,Y_test)\n"
   ]
  },
  {
   "cell_type": "code",
   "execution_count": 16,
   "metadata": {},
   "outputs": [
    {
     "name": "stdout",
     "output_type": "stream",
     "text": [
      "Test set\n",
      "  Loss: 0.943\n",
      "  Accuracy: 0.774\n"
     ]
    }
   ],
   "source": [
    "print('Test set\\n  Loss: {:0.3f}\\n  Accuracy: {:0.3f}'.format(accr[0],accr[1]))\n"
   ]
  },
  {
   "cell_type": "code",
   "execution_count": 17,
   "metadata": {},
   "outputs": [],
   "source": [
    "y_preds = model.predict(test_sequences_matrix)\n"
   ]
  },
  {
   "cell_type": "code",
   "execution_count": 19,
   "metadata": {},
   "outputs": [],
   "source": [
    "Y_t = []\n",
    "for i in Y_test:\n",
    "  Y_t.append(np.argmax(i))\n",
    "  \n",
    "#print(Y_t)\n",
    "\n",
    "\n",
    "Y_p = []\n",
    "\n",
    "for i in y_preds:\n",
    "  Y_p.append(np.argmax(i))\n",
    "  \n",
    "#print(Y_p)"
   ]
  },
  {
   "cell_type": "code",
   "execution_count": 22,
   "metadata": {},
   "outputs": [
    {
     "name": "stdout",
     "output_type": "stream",
     "text": [
      "              precision    recall  f1-score   support\n",
      "\n",
      "           0       0.20      0.66      0.30       214\n",
      "           1       0.98      0.75      0.85      2908\n",
      "           2       0.73      0.92      0.81       596\n",
      "\n",
      "    accuracy                           0.77      3718\n",
      "   macro avg       0.63      0.78      0.65      3718\n",
      "weighted avg       0.89      0.77      0.81      3718\n",
      "\n"
     ]
    }
   ],
   "source": [
    "report = classification_report( Y_t, Y_p )\n",
    "print(report)"
   ]
  },
  {
   "cell_type": "code",
   "execution_count": 23,
   "metadata": {},
   "outputs": [
    {
     "data": {
      "image/png": "[encoded data removed]",
      "text/plain": [
       "<Figure size 360x360 with 1 Axes>"
      ]
     },
     "metadata": {
      "needs_background": "light"
     },
     "output_type": "display_data"
    }
   ],
   "source": [
    "from sklearn.metrics import confusion_matrix\n",
    "confusion_matrix = confusion_matrix(Y_t,Y_p)\n",
    "matrix_proportions = np.zeros((3,3))\n",
    "for i in range(0,3):\n",
    "    matrix_proportions[i,:] = confusion_matrix[i,:]/float(confusion_matrix[i,:].sum())\n",
    "names=['Hate','Offensive','Neither']\n",
    "confusion_df = pd.DataFrame(matrix_proportions, index=names,columns=names)\n",
    "plt.figure(figsize=(5,5))\n",
    "sns.heatmap(confusion_df,annot=True,annot_kws={\"size\": 12},cmap='gist_gray_r',cbar=False, square=True,fmt='.2f')\n",
    "plt.ylabel(r'True categories',fontsize=14)\n",
    "plt.xlabel(r'Predicted categories',fontsize=14)\n",
    "plt.tick_params(labelsize=12)"
   ]
  },
  {
   "cell_type": "code",
   "execution_count": 48,
   "metadata": {},
   "outputs": [],
   "source": [
    "test=pd.read_csv(r\"C:\\Users\\3alaa\\Desktop\\Untitled Folder\\data\\reddit.csv\")\n",
    "#test=test.drop(columns=['0','1467810369','NO_QUERY','_TheSpecialOne_','Mon Apr 06 22:19:45 PDT 2009'])\n",
    "#test=test.rename(columns={\"@switchfoot http://twitpic.com/2y1zl - Awww, that's a bummer.  You shoulda got David Carr of Third Day to do it. ;D\":\"text\"})"
   ]
  },
  {
   "cell_type": "code",
   "execution_count": 50,
   "metadata": {},
   "outputs": [],
   "source": [
    "test=test.drop(columns=['id','hate_speech_idx','response'])"
   ]
  },
  {
   "cell_type": "code",
   "execution_count": 95,
   "metadata": {},
   "outputs": [],
   "source": [
    "data={'text':['']}\n",
    "test=pd.DataFrame(data)"
   ]
  },
  {
   "cell_type": "code",
   "execution_count": 96,
   "metadata": {},
   "outputs": [],
   "source": [
    "r=test.head(20)"
   ]
  },
  {
   "cell_type": "code",
   "execution_count": 97,
   "metadata": {},
   "outputs": [],
   "source": [
    "b=r[\"text\"]"
   ]
  },
  {
   "cell_type": "code",
   "execution_count": 98,
   "metadata": {},
   "outputs": [
    {
     "name": "stdout",
     "output_type": "stream",
     "text": [
      "[1]\n"
     ]
    }
   ],
   "source": [
    "ts = tok.texts_to_sequences(b)\n",
    "tss = sequence.pad_sequences(ts,maxlen=max_len)\n",
    "pred=model.predict(tss)\n",
    "Y_t = []\n",
    "for i in pred:\n",
    "  Y_t.append(np.argmax(i))\n",
    "  \n",
    "print(Y_t)"
   ]
  },
  {
   "cell_type": "code",
   "execution_count": null,
   "metadata": {},
   "outputs": [],
   "source": []
  }
 ],
 "metadata": {
  "kernelspec": {
   "display_name": "Python 3",
   "language": "python",
   "name": "python3"
  },
  "language_info": {
   "codemirror_mode": {
    "name": "ipython",
    "version": 3
   },
   "file_extension": ".py",
   "mimetype": "text/x-python",
   "name": "python",
   "nbconvert_exporter": "python",
   "pygments_lexer": "ipython3",
   "version": "3.8.9"
  }
 },
 "nbformat": 4,
 "nbformat_minor": 5
}